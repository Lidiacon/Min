{
 "cells": [
  {
   "cell_type": "code",
   "execution_count": 27,
   "metadata": {
    "collapsed": true
   },
   "outputs": [],
   "source": [
    "import string as str"
   ]
  },
  {
   "cell_type": "code",
   "execution_count": 29,
   "metadata": {
    "collapsed": false
   },
   "outputs": [
    {
     "name": "stdout",
     "output_type": "stream",
     "text": [
      "['34.2', '33', '32', '31.2', 'err', '27.2', '22', '21', 'err', '21', '24', '28.4', '29.7', '30', 'err']\n"
     ]
    }
   ],
   "source": [
    "fichero = open(\"/hlocal/TimeSerie.txt\", \"r\")\n",
    "lineas = fichero.readlines()\n",
    "proc = []\n",
    "for i in lineas:\n",
    "    j = i.replace(\",\",\".\")\n",
    "    if j.find(str.digits) != -1: \n",
    "        j = float(j)\n",
    "    proc.append(j.strip())\n",
    "print(proc)\n",
    "fichero.close()"
   ]
  },
  {
   "cell_type": "code",
   "execution_count": null,
   "metadata": {
    "collapsed": true
   },
   "outputs": [],
   "source": []
  }
 ],
 "metadata": {
  "kernelspec": {
   "display_name": "Python 2",
   "language": "python",
   "name": "python2"
  },
  "language_info": {
   "codemirror_mode": {
    "name": "ipython",
    "version": 2
   },
   "file_extension": ".py",
   "mimetype": "text/x-python",
   "name": "python",
   "nbconvert_exporter": "python",
   "pygments_lexer": "ipython2",
   "version": "2.7.11"
  }
 },
 "nbformat": 4,
 "nbformat_minor": 0
}

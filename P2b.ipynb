{
 "cells": [
  {
   "cell_type": "code",
   "execution_count": 1,
   "metadata": {
    "collapsed": true
   },
   "outputs": [],
   "source": [
    "import string as str\n",
    "import matplotlib.pyplot as plt\n",
    "%matplotlib inline\n",
    "import numpy as np"
   ]
  },
  {
   "cell_type": "code",
   "execution_count": 43,
   "metadata": {
    "collapsed": false
   },
   "outputs": [
    {
     "name": "stdout",
     "output_type": "stream",
     "text": [
      "[[176. 202.]\n [220. 120.]\n [208. 257.]\n [120. 228.]\n [155. 177.]\n [230. 121.]\n [261. 192.]\n [151.  94.]\n [145. 171.]\n [331. 180.]\n [229. 149.]\n [200. 268.]\n [301. 221.]\n [239. 129.]\n [136. 142.]\n [164. 261.]\n [223. 218.]\n [228. 209.]\n [228. 195.]\n [184. 171.]\n [144. 236.]\n [271. 188.]\n [272. 162.]\n [241. 139.]\n [277. 268.]\n [153. 310.]\n [148. 264.]\n [181. 202.]\n [249. 130.]\n [237. 108.]\n [192.  51.]\n [110.  80.]\n [ 97. 163.]\n [139. 203.]\n [179. 235.]\n [198. 224.]\n [227. 159.]\n [233. 222.]\n [256. 262.]\n [273. 262.]\n [383.   8.]\n [366. 378.]\n [ 24. 384.]\n [ 27.  32.]]\n"
     ]
    }
   ],
   "source": [
    "fichero = open(\"/Users/lylyk_000/Documents/Uni/4/MIN/Practicas/outliers.txt\", \"r\")\n",
    "entero = fichero.readlines()\n",
    "matriz = np.array(entero[0].strip().split(\",\"),dtype=float)\n",
    "for linea in range(1, len(entero)):\n",
    "    elem = np.array(entero[linea].strip().split(\",\"),dtype=float)\n",
    "    matriz = np.vstack((matriz, elem))\n",
    "fichero.close()\n",
    "print(matriz)\n"
   ]
  },
  {
   "cell_type": "code",
   "execution_count": 57,
   "metadata": {},
   "outputs": [
    {
     "name": "stdout",
     "output_type": "stream",
     "text": [
      "[176. 220. 208. 120. 155. 230. 261. 151. 145. 331. 229. 200. 301. 239.\n 136. 164. 223. 228. 228. 184. 144. 271. 272. 241. 277. 153. 148. 181.\n 249. 237. 192. 110.  97. 139. 179. 198. 227. 233. 256. 273. 383. 366.\n  24.  27.] [202. 120. 257. 228. 177. 121. 192.  94. 171. 180. 149. 268. 221. 129.\n 142. 261. 218. 209. 195. 171. 236. 188. 162. 139. 268. 310. 264. 202.\n 130. 108.  51.  80. 163. 203. 235. 224. 159. 222. 262. 262.   8. 378.\n 384.  32.]\n"
     ]
    }
   ],
   "source": [
    "Xs = np.array(matriz[:,0])\n",
    "Ys = np.array(matriz[:,1])\n",
    "print(Xs,Ys)"
   ]
  },
  {
   "cell_type": "code",
   "execution_count": 49,
   "metadata": {},
   "outputs": [
    {
     "data": {
      "image/png": "[encoded data removed]",
      "text/plain": [
       "<matplotlib.figure.Figure at 0x20856e0dc88>"
      ]
     },
     "metadata": {},
     "output_type": "display_data"
    }
   ],
   "source": [
    "plt.plot(Xs, Ys, 'bo')\n",
    "plt.show(graf)"
   ]
  },
  {
   "cell_type": "code",
   "execution_count": 66,
   "metadata": {},
   "outputs": [
    {
     "name": "stdout",
     "output_type": "stream",
     "text": [
      "[204.6818181818182, 190.3409090909091]\n"
     ]
    }
   ],
   "source": [
    "Xcen = Xs.mean()\n",
    "Ycen = Ys.mean()\n",
    "print([Xcen, Ycen])"
   ]
  },
  {
   "cell_type": "code",
   "execution_count": 67,
   "metadata": {},
   "outputs": [
    {
     "data": {
      "image/png": "[encoded data removed]",
      "text/plain": [
       "<matplotlib.figure.Figure at 0x20858e89f60>"
      ]
     },
     "metadata": {},
     "output_type": "display_data"
    }
   ],
   "source": [
    "plt.plot(Xs, Ys, 'bo', Xcen, Ycen, 'ro')\n",
    "plt.show()"
   ]
  },
  {
   "cell_type": "code",
   "execution_count": null,
   "metadata": {},
   "outputs": [],
   "source": []
  }
 ],
 "metadata": {
  "kernelspec": {
   "display_name": "Python 2",
   "language": "python",
   "name": "python2"
  },
  "language_info": {
   "codemirror_mode": {
    "name": "ipython",
    "version": 2
   },
   "file_extension": ".py",
   "mimetype": "text/x-python",
   "name": "python",
   "nbconvert_exporter": "python",
   "pygments_lexer": "ipython2",
   "version": "2.7.11"
  }
 },
 "nbformat": 4,
 "nbformat_minor": 0
}
